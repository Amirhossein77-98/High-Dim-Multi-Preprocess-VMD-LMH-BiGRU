{
 "cells": [
  {
   "cell_type": "markdown",
   "metadata": {
    "colab_type": "text",
    "id": "TKAxbUFku8lD"
   },
   "source": [
    "# **Dependancies**\n"
   ]
  },
  {
   "cell_type": "code",
   "execution_count": 30,
   "metadata": {
    "colab": {},
    "colab_type": "code",
    "id": "oFJOnSzBk_uB"
   },
   "outputs": [],
   "source": [
    "import numpy as np\n",
    "import pandas as pd\n",
    "import matplotlib.pyplot as plt\n",
    "from tensorflow.keras.models import Sequential\n",
    "from tensorflow.keras.layers import Bidirectional, GRU, Dense\n",
    "from tensorflow.keras import optimizers, losses\n",
    "from tensorflow.keras.models import load_model\n",
    "from tensorflow.keras.callbacks import ModelCheckpoint, EarlyStopping\n",
    "from sklearn.model_selection import train_test_split\n",
    "from sklearn.preprocessing import MinMaxScaler, RobustScaler\n",
    "from sklearn.pipeline import Pipeline\n",
    "from sklearn.metrics import r2_score, mean_absolute_error, mean_squared_error\n",
    "import commons"
   ]
  },
  {
   "cell_type": "markdown",
   "metadata": {
    "colab_type": "text",
    "id": "22PseW2xqQET"
   },
   "source": [
    "# **Loading Data**\n"
   ]
  },
  {
   "cell_type": "code",
   "execution_count": 9,
   "metadata": {
    "colab": {},
    "colab_type": "code",
    "id": "I0HH_FAAlRXx"
   },
   "outputs": [],
   "source": [
    "PATH_TO_DATA = \"reg_interval1.csv\"\n",
    "data = pd.read_csv(PATH_TO_DATA)"
   ]
  },
  {
   "cell_type": "code",
   "execution_count": 10,
   "metadata": {
    "scrolled": true
   },
   "outputs": [
    {
     "data": {
      "text/html": [
       "<div>\n",
       "<style scoped>\n",
       "    .dataframe tbody tr th:only-of-type {\n",
       "        vertical-align: middle;\n",
       "    }\n",
       "\n",
       "    .dataframe tbody tr th {\n",
       "        vertical-align: top;\n",
       "    }\n",
       "\n",
       "    .dataframe thead th {\n",
       "        text-align: right;\n",
       "    }\n",
       "</style>\n",
       "<table border=\"1\" class=\"dataframe\">\n",
       "  <thead>\n",
       "    <tr style=\"text-align: right;\">\n",
       "      <th></th>\n",
       "      <th>feature_0</th>\n",
       "      <th>feature_1</th>\n",
       "      <th>feature_2</th>\n",
       "      <th>feature_3</th>\n",
       "      <th>feature_4</th>\n",
       "      <th>feature_5</th>\n",
       "      <th>feature_6</th>\n",
       "      <th>feature_7</th>\n",
       "      <th>feature_8</th>\n",
       "      <th>feature_9</th>\n",
       "      <th>feature_10</th>\n",
       "      <th>feature_11</th>\n",
       "      <th>feature_12</th>\n",
       "      <th>feature_13</th>\n",
       "      <th>feature_14</th>\n",
       "    </tr>\n",
       "  </thead>\n",
       "  <tbody>\n",
       "    <tr>\n",
       "      <th>0</th>\n",
       "      <td>241.235663</td>\n",
       "      <td>-124.609037</td>\n",
       "      <td>2.364020</td>\n",
       "      <td>6695826.0</td>\n",
       "      <td>1.596</td>\n",
       "      <td>4.802511e+24</td>\n",
       "      <td>28.497</td>\n",
       "      <td>102.533</td>\n",
       "      <td>1880.0</td>\n",
       "      <td>111.703</td>\n",
       "      <td>95.902</td>\n",
       "      <td>101.342</td>\n",
       "      <td>106.790</td>\n",
       "      <td>42.924</td>\n",
       "      <td>0.1330</td>\n",
       "    </tr>\n",
       "    <tr>\n",
       "      <th>1</th>\n",
       "      <td>241.207190</td>\n",
       "      <td>-124.639809</td>\n",
       "      <td>2.214144</td>\n",
       "      <td>6695826.0</td>\n",
       "      <td>1.948</td>\n",
       "      <td>7.851852e+24</td>\n",
       "      <td>29.741</td>\n",
       "      <td>123.314</td>\n",
       "      <td>1557.0</td>\n",
       "      <td>119.740</td>\n",
       "      <td>101.303</td>\n",
       "      <td>108.257</td>\n",
       "      <td>110.343</td>\n",
       "      <td>81.728</td>\n",
       "      <td>0.1410</td>\n",
       "    </tr>\n",
       "    <tr>\n",
       "      <th>2</th>\n",
       "      <td>241.110210</td>\n",
       "      <td>-124.740878</td>\n",
       "      <td>1.885575</td>\n",
       "      <td>7673000.0</td>\n",
       "      <td>1.563</td>\n",
       "      <td>5.024273e+24</td>\n",
       "      <td>40.236</td>\n",
       "      <td>115.115</td>\n",
       "      <td>-3032.0</td>\n",
       "      <td>149.566</td>\n",
       "      <td>151.045</td>\n",
       "      <td>154.655</td>\n",
       "      <td>101.012</td>\n",
       "      <td>-13.192</td>\n",
       "      <td>0.1070</td>\n",
       "    </tr>\n",
       "    <tr>\n",
       "      <th>3</th>\n",
       "      <td>241.059700</td>\n",
       "      <td>-124.791761</td>\n",
       "      <td>1.545784</td>\n",
       "      <td>8974296.0</td>\n",
       "      <td>1.190</td>\n",
       "      <td>2.529764e+25</td>\n",
       "      <td>46.078</td>\n",
       "      <td>63.022</td>\n",
       "      <td>1882.0</td>\n",
       "      <td>108.586</td>\n",
       "      <td>92.513</td>\n",
       "      <td>97.039</td>\n",
       "      <td>99.145</td>\n",
       "      <td>-1.908</td>\n",
       "      <td>0.1100</td>\n",
       "    </tr>\n",
       "    <tr>\n",
       "      <th>4</th>\n",
       "      <td>241.076917</td>\n",
       "      <td>-124.768385</td>\n",
       "      <td>1.249267</td>\n",
       "      <td>8974296.0</td>\n",
       "      <td>0.745</td>\n",
       "      <td>4.897122e+25</td>\n",
       "      <td>46.657</td>\n",
       "      <td>73.620</td>\n",
       "      <td>1738.0</td>\n",
       "      <td>113.091</td>\n",
       "      <td>95.720</td>\n",
       "      <td>102.484</td>\n",
       "      <td>98.471</td>\n",
       "      <td>-1.425</td>\n",
       "      <td>0.0854</td>\n",
       "    </tr>\n",
       "  </tbody>\n",
       "</table>\n",
       "</div>"
      ],
      "text/plain": [
       "    feature_0   feature_1  feature_2  feature_3  feature_4     feature_5  \\\n",
       "0  241.235663 -124.609037   2.364020  6695826.0      1.596  4.802511e+24   \n",
       "1  241.207190 -124.639809   2.214144  6695826.0      1.948  7.851852e+24   \n",
       "2  241.110210 -124.740878   1.885575  7673000.0      1.563  5.024273e+24   \n",
       "3  241.059700 -124.791761   1.545784  8974296.0      1.190  2.529764e+25   \n",
       "4  241.076917 -124.768385   1.249267  8974296.0      0.745  4.897122e+25   \n",
       "\n",
       "   feature_6  feature_7  feature_8  feature_9  feature_10  feature_11  \\\n",
       "0     28.497    102.533     1880.0    111.703      95.902     101.342   \n",
       "1     29.741    123.314     1557.0    119.740     101.303     108.257   \n",
       "2     40.236    115.115    -3032.0    149.566     151.045     154.655   \n",
       "3     46.078     63.022     1882.0    108.586      92.513      97.039   \n",
       "4     46.657     73.620     1738.0    113.091      95.720     102.484   \n",
       "\n",
       "   feature_12  feature_13  feature_14  \n",
       "0     106.790      42.924      0.1330  \n",
       "1     110.343      81.728      0.1410  \n",
       "2     101.012     -13.192      0.1070  \n",
       "3      99.145      -1.908      0.1100  \n",
       "4      98.471      -1.425      0.0854  "
      ]
     },
     "execution_count": 10,
     "metadata": {},
     "output_type": "execute_result"
    }
   ],
   "source": [
    "data.head()"
   ]
  },
  {
   "cell_type": "code",
   "execution_count": 11,
   "metadata": {},
   "outputs": [
    {
     "data": {
      "text/plain": [
       "(602, 15)"
      ]
     },
     "execution_count": 11,
     "metadata": {},
     "output_type": "execute_result"
    }
   ],
   "source": [
    "data.shape"
   ]
  },
  {
   "cell_type": "code",
   "execution_count": 12,
   "metadata": {
    "colab": {},
    "colab_type": "code",
    "id": "hSzHTpuzmScU"
   },
   "outputs": [],
   "source": [
    "X = data.iloc[:,:-1]"
   ]
  },
  {
   "cell_type": "code",
   "execution_count": 13,
   "metadata": {},
   "outputs": [],
   "source": [
    "y=data.iloc[:,-1:]"
   ]
  },
  {
   "cell_type": "code",
   "execution_count": 14,
   "metadata": {},
   "outputs": [],
   "source": [
    "# Train-test split\n",
    "X_train, X_test, y_train, y_test = train_test_split(X, y, test_size=0.2, random_state=7)"
   ]
  },
  {
   "cell_type": "code",
   "execution_count": 15,
   "metadata": {},
   "outputs": [
    {
     "data": {
      "text/plain": [
       "(481, 14)"
      ]
     },
     "execution_count": 15,
     "metadata": {},
     "output_type": "execute_result"
    }
   ],
   "source": [
    "X_train.shape"
   ]
  },
  {
   "cell_type": "code",
   "execution_count": 16,
   "metadata": {},
   "outputs": [],
   "source": [
    "# # Prepare scalers\n",
    "# estimators = [\n",
    "#     ('robust', RobustScaler()),\n",
    "#     ('minmax', MinMaxScaler())\n",
    "# ]"
   ]
  },
  {
   "cell_type": "code",
   "execution_count": 17,
   "metadata": {},
   "outputs": [],
   "source": [
    "# scaler=Pipeline(estimators,verbose=True)"
   ]
  },
  {
   "cell_type": "code",
   "execution_count": 18,
   "metadata": {},
   "outputs": [],
   "source": [
    "# Prepare feature scalers\n",
    "feature_scaler = MinMaxScaler()\n",
    "X_train_scaled = feature_scaler.fit_transform(X_train)\n",
    "X_test_scaled = feature_scaler.transform(X_test)"
   ]
  },
  {
   "cell_type": "code",
   "execution_count": 19,
   "metadata": {},
   "outputs": [],
   "source": [
    "# Create a separate target scaler\n",
    "target_scaler = MinMaxScaler()\n",
    "y_train_scaled = target_scaler.fit_transform(y_train)"
   ]
  },
  {
   "cell_type": "markdown",
   "metadata": {},
   "source": [
    "### Reshape for GRU (samples, timesteps, features)\n"
   ]
  },
  {
   "cell_type": "code",
   "execution_count": 20,
   "metadata": {},
   "outputs": [],
   "source": [
    "X_train_reshaped = X_train_scaled.reshape(X_train_scaled.shape[0], 1, X_train_scaled.shape[1])\n",
    "X_test_reshaped = X_test_scaled.reshape(X_test_scaled.shape[0], 1, X_test_scaled.shape[1])"
   ]
  },
  {
   "cell_type": "markdown",
   "metadata": {
    "colab_type": "text",
    "id": "MVCJxdebqmOr"
   },
   "source": [
    "# **Model Architecture + Training**\n"
   ]
  },
  {
   "cell_type": "code",
   "execution_count": 21,
   "metadata": {},
   "outputs": [],
   "source": [
    "def lr_schedule(epoch):\n",
    "    \"\"\"Learning Rate Schedule\n",
    "\n",
    "    Learning rate is scheduled to be reduced after 80, 120, 160, 180 epochs.\n",
    "    Called automatically every epoch as part of callbacks during training.\n",
    "\n",
    "    # Arguments\n",
    "        epoch (int): The number of epochs\n",
    "\n",
    "    # Returns\n",
    "        lr (float32): learning rate\n",
    "    \"\"\"\n",
    "    lr = 1e-3\n",
    "    if epoch > 180:\n",
    "        lr *= 0.5e-3\n",
    "    elif epoch > 160:\n",
    "        lr *= 1e-3\n",
    "    elif epoch > 120:\n",
    "        lr *= 1e-2\n",
    "    elif epoch > 80:\n",
    "        lr *= 1e-1\n",
    "    print('Learning rate: ', lr)\n",
    "    return lr"
   ]
  },
  {
   "cell_type": "code",
   "execution_count": 22,
   "metadata": {
    "colab": {
     "base_uri": "https://localhost:8080/",
     "height": 72
    },
    "colab_type": "code",
    "id": "NBZ9JgDTrHwV",
    "outputId": "40d0a5ca-682d-42d1-e08b-fd28df246868"
   },
   "outputs": [
    {
     "name": "stdout",
     "output_type": "stream",
     "text": [
      "Learning rate:  0.001\n"
     ]
    }
   ],
   "source": [
    "adam=optimizers.Adam(learning_rate=lr_schedule(0),amsgrad=True)\n"
   ]
  },
  {
   "cell_type": "code",
   "execution_count": 23,
   "metadata": {},
   "outputs": [
    {
     "name": "stderr",
     "output_type": "stream",
     "text": [
      "g:\\University\\Term 3\\Pattern Recognition\\Presentation\\Code\\venv\\Lib\\site-packages\\keras\\src\\layers\\rnn\\bidirectional.py:107: UserWarning: Do not pass an `input_shape`/`input_dim` argument to a layer. When using Sequential models, prefer using an `Input(shape)` object as the first layer in the model instead.\n",
      "  super().__init__(**kwargs)\n"
     ]
    }
   ],
   "source": [
    "# Model Architecture\n",
    "model = Sequential([\n",
    "    Bidirectional(GRU(350, return_sequences=True, activation='relu'), \n",
    "                    input_shape=(1, X_train_reshaped.shape[2])),\n",
    "    Bidirectional(GRU(350, activation='relu')),\n",
    "    Dense(1)\n",
    "])"
   ]
  },
  {
   "cell_type": "code",
   "execution_count": 24,
   "metadata": {},
   "outputs": [],
   "source": [
    "# Compile model\n",
    "model.compile(loss=losses.logcosh, optimizer=adam, metrics=['mae'])"
   ]
  },
  {
   "cell_type": "code",
   "execution_count": 25,
   "metadata": {
    "colab": {},
    "colab_type": "code",
    "id": "0WWSdc7AxKV6"
   },
   "outputs": [],
   "source": [
    "# Callbacks\n",
    "mcp_save = ModelCheckpoint('trained_models/GRU_reg_new.keras', \n",
    "                            save_best_only=True, \n",
    "                            monitor='val_loss', \n",
    "                            mode='auto')\n",
    "early_stopping = EarlyStopping(monitor='val_loss', \n",
    "                                patience=100, \n",
    "                                verbose=1, \n",
    "                                mode='auto')"
   ]
  },
  {
   "cell_type": "code",
   "execution_count": 26,
   "metadata": {
    "colab": {
     "base_uri": "https://localhost:8080/",
     "height": 1000
    },
    "colab_type": "code",
    "id": "bIJPsArMr8cs",
    "outputId": "91137564-8bb8-496c-c827-829e240a789a",
    "scrolled": true
   },
   "outputs": [
    {
     "name": "stdout",
     "output_type": "stream",
     "text": [
      "Epoch 1/5000\n",
      "\u001b[1m16/16\u001b[0m \u001b[32m━━━━━━━━━━━━━━━━━━━━\u001b[0m\u001b[37m\u001b[0m \u001b[1m6s\u001b[0m 70ms/step - loss: 0.0022 - mae: 0.0475 - val_loss: 7.5181e-04 - val_mae: 0.0256\n",
      "Epoch 2/5000\n",
      "\u001b[1m16/16\u001b[0m \u001b[32m━━━━━━━━━━━━━━━━━━━━\u001b[0m\u001b[37m\u001b[0m \u001b[1m1s\u001b[0m 43ms/step - loss: 6.9692e-04 - mae: 0.0166 - val_loss: 2.0056e-04 - val_mae: 0.0151\n",
      "Epoch 3/5000\n",
      "\u001b[1m16/16\u001b[0m \u001b[32m━━━━━━━━━━━━━━━━━━━━\u001b[0m\u001b[37m\u001b[0m \u001b[1m1s\u001b[0m 46ms/step - loss: 1.5969e-04 - mae: 0.0107 - val_loss: 7.3381e-05 - val_mae: 0.0085\n",
      "Epoch 4/5000\n",
      "\u001b[1m16/16\u001b[0m \u001b[32m━━━━━━━━━━━━━━━━━━━━\u001b[0m\u001b[37m\u001b[0m \u001b[1m0s\u001b[0m 30ms/step - loss: 2.9180e-04 - mae: 0.0113 - val_loss: 3.5583e-04 - val_mae: 0.0122\n",
      "Epoch 5/5000\n",
      "\u001b[1m16/16\u001b[0m \u001b[32m━━━━━━━━━━━━━━━━━━━━\u001b[0m\u001b[37m\u001b[0m \u001b[1m0s\u001b[0m 26ms/step - loss: 9.5053e-05 - mae: 0.0076 - val_loss: 7.6823e-04 - val_mae: 0.0177\n",
      "Epoch 6/5000\n",
      "\u001b[1m16/16\u001b[0m \u001b[32m━━━━━━━━━━━━━━━━━━━━\u001b[0m\u001b[37m\u001b[0m \u001b[1m0s\u001b[0m 24ms/step - loss: 1.4835e-04 - mae: 0.0114 - val_loss: 6.3911e-04 - val_mae: 0.0102\n",
      "Epoch 7/5000\n",
      "\u001b[1m16/16\u001b[0m \u001b[32m━━━━━━━━━━━━━━━━━━━━\u001b[0m\u001b[37m\u001b[0m \u001b[1m0s\u001b[0m 24ms/step - loss: 1.0417e-04 - mae: 0.0086 - val_loss: 6.7592e-04 - val_mae: 0.0098\n",
      "Epoch 8/5000\n",
      "\u001b[1m16/16\u001b[0m \u001b[32m━━━━━━━━━━━━━━━━━━━━\u001b[0m\u001b[37m\u001b[0m \u001b[1m0s\u001b[0m 24ms/step - loss: 7.1306e-05 - mae: 0.0076 - val_loss: 9.1682e-04 - val_mae: 0.0150\n",
      "Epoch 9/5000\n",
      "\u001b[1m16/16\u001b[0m \u001b[32m━━━━━━━━━━━━━━━━━━━━\u001b[0m\u001b[37m\u001b[0m \u001b[1m0s\u001b[0m 26ms/step - loss: 6.6078e-05 - mae: 0.0085 - val_loss: 5.7790e-04 - val_mae: 0.0099\n",
      "Epoch 10/5000\n",
      "\u001b[1m16/16\u001b[0m \u001b[32m━━━━━━━━━━━━━━━━━━━━\u001b[0m\u001b[37m\u001b[0m \u001b[1m0s\u001b[0m 26ms/step - loss: 7.3573e-05 - mae: 0.0069 - val_loss: 9.2107e-04 - val_mae: 0.0102\n",
      "Epoch 11/5000\n",
      "\u001b[1m16/16\u001b[0m \u001b[32m━━━━━━━━━━━━━━━━━━━━\u001b[0m\u001b[37m\u001b[0m \u001b[1m0s\u001b[0m 26ms/step - loss: 3.5463e-05 - mae: 0.0054 - val_loss: 7.3076e-04 - val_mae: 0.0122\n",
      "Epoch 12/5000\n",
      "\u001b[1m16/16\u001b[0m \u001b[32m━━━━━━━━━━━━━━━━━━━━\u001b[0m\u001b[37m\u001b[0m \u001b[1m0s\u001b[0m 26ms/step - loss: 4.5759e-05 - mae: 0.0064 - val_loss: 7.6926e-04 - val_mae: 0.0107\n",
      "Epoch 13/5000\n",
      "\u001b[1m16/16\u001b[0m \u001b[32m━━━━━━━━━━━━━━━━━━━━\u001b[0m\u001b[37m\u001b[0m \u001b[1m0s\u001b[0m 28ms/step - loss: 6.3506e-05 - mae: 0.0076 - val_loss: 6.5585e-04 - val_mae: 0.0153\n",
      "Epoch 14/5000\n",
      "\u001b[1m16/16\u001b[0m \u001b[32m━━━━━━━━━━━━━━━━━━━━\u001b[0m\u001b[37m\u001b[0m \u001b[1m0s\u001b[0m 25ms/step - loss: 7.4301e-05 - mae: 0.0091 - val_loss: 8.1412e-04 - val_mae: 0.0109\n",
      "Epoch 15/5000\n",
      "\u001b[1m16/16\u001b[0m \u001b[32m━━━━━━━━━━━━━━━━━━━━\u001b[0m\u001b[37m\u001b[0m \u001b[1m0s\u001b[0m 24ms/step - loss: 4.3353e-05 - mae: 0.0054 - val_loss: 6.1860e-04 - val_mae: 0.0090\n",
      "Epoch 16/5000\n",
      "\u001b[1m16/16\u001b[0m \u001b[32m━━━━━━━━━━━━━━━━━━━━\u001b[0m\u001b[37m\u001b[0m \u001b[1m0s\u001b[0m 23ms/step - loss: 3.0009e-05 - mae: 0.0050 - val_loss: 8.4044e-04 - val_mae: 0.0114\n",
      "Epoch 17/5000\n",
      "\u001b[1m16/16\u001b[0m \u001b[32m━━━━━━━━━━━━━━━━━━━━\u001b[0m\u001b[37m\u001b[0m \u001b[1m0s\u001b[0m 23ms/step - loss: 4.4018e-05 - mae: 0.0057 - val_loss: 8.1172e-04 - val_mae: 0.0136\n",
      "Epoch 18/5000\n",
      "\u001b[1m16/16\u001b[0m \u001b[32m━━━━━━━━━━━━━━━━━━━━\u001b[0m\u001b[37m\u001b[0m \u001b[1m0s\u001b[0m 24ms/step - loss: 4.6257e-05 - mae: 0.0068 - val_loss: 5.7156e-04 - val_mae: 0.0088\n",
      "Epoch 19/5000\n",
      "\u001b[1m16/16\u001b[0m \u001b[32m━━━━━━━━━━━━━━━━━━━━\u001b[0m\u001b[37m\u001b[0m \u001b[1m0s\u001b[0m 25ms/step - loss: 4.5240e-05 - mae: 0.0056 - val_loss: 6.3724e-04 - val_mae: 0.0094\n",
      "Epoch 20/5000\n",
      "\u001b[1m16/16\u001b[0m \u001b[32m━━━━━━━━━━━━━━━━━━━━\u001b[0m\u001b[37m\u001b[0m \u001b[1m0s\u001b[0m 25ms/step - loss: 2.7710e-05 - mae: 0.0047 - val_loss: 7.7863e-04 - val_mae: 0.0126\n",
      "Epoch 21/5000\n",
      "\u001b[1m16/16\u001b[0m \u001b[32m━━━━━━━━━━━━━━━━━━━━\u001b[0m\u001b[37m\u001b[0m \u001b[1m0s\u001b[0m 26ms/step - loss: 5.1603e-05 - mae: 0.0071 - val_loss: 6.8936e-04 - val_mae: 0.0110\n",
      "Epoch 22/5000\n",
      "\u001b[1m16/16\u001b[0m \u001b[32m━━━━━━━━━━━━━━━━━━━━\u001b[0m\u001b[37m\u001b[0m \u001b[1m0s\u001b[0m 27ms/step - loss: 3.3323e-05 - mae: 0.0053 - val_loss: 9.3635e-04 - val_mae: 0.0101\n",
      "Epoch 23/5000\n",
      "\u001b[1m16/16\u001b[0m \u001b[32m━━━━━━━━━━━━━━━━━━━━\u001b[0m\u001b[37m\u001b[0m \u001b[1m0s\u001b[0m 27ms/step - loss: 2.8415e-05 - mae: 0.0049 - val_loss: 7.3679e-04 - val_mae: 0.0107\n",
      "Epoch 24/5000\n",
      "\u001b[1m16/16\u001b[0m \u001b[32m━━━━━━━━━━━━━━━━━━━━\u001b[0m\u001b[37m\u001b[0m \u001b[1m0s\u001b[0m 24ms/step - loss: 3.0514e-05 - mae: 0.0051 - val_loss: 8.1316e-04 - val_mae: 0.0104\n",
      "Epoch 25/5000\n",
      "\u001b[1m16/16\u001b[0m \u001b[32m━━━━━━━━━━━━━━━━━━━━\u001b[0m\u001b[37m\u001b[0m \u001b[1m0s\u001b[0m 24ms/step - loss: 2.3605e-05 - mae: 0.0047 - val_loss: 6.6820e-04 - val_mae: 0.0100\n",
      "Epoch 26/5000\n",
      "\u001b[1m16/16\u001b[0m \u001b[32m━━━━━━━━━━━━━━━━━━━━\u001b[0m\u001b[37m\u001b[0m \u001b[1m0s\u001b[0m 23ms/step - loss: 4.9034e-05 - mae: 0.0065 - val_loss: 6.6383e-04 - val_mae: 0.0103\n",
      "Epoch 27/5000\n",
      "\u001b[1m16/16\u001b[0m \u001b[32m━━━━━━━━━━━━━━━━━━━━\u001b[0m\u001b[37m\u001b[0m \u001b[1m0s\u001b[0m 23ms/step - loss: 3.2646e-05 - mae: 0.0054 - val_loss: 8.7388e-04 - val_mae: 0.0101\n",
      "Epoch 28/5000\n",
      "\u001b[1m16/16\u001b[0m \u001b[32m━━━━━━━━━━━━━━━━━━━━\u001b[0m\u001b[37m\u001b[0m \u001b[1m0s\u001b[0m 26ms/step - loss: 2.7880e-05 - mae: 0.0053 - val_loss: 6.2850e-04 - val_mae: 0.0098\n",
      "Epoch 29/5000\n",
      "\u001b[1m16/16\u001b[0m \u001b[32m━━━━━━━━━━━━━━━━━━━━\u001b[0m\u001b[37m\u001b[0m \u001b[1m0s\u001b[0m 25ms/step - loss: 4.5818e-05 - mae: 0.0066 - val_loss: 3.8492e-04 - val_mae: 0.0088\n",
      "Epoch 30/5000\n",
      "\u001b[1m16/16\u001b[0m \u001b[32m━━━━━━━━━━━━━━━━━━━━\u001b[0m\u001b[37m\u001b[0m \u001b[1m0s\u001b[0m 27ms/step - loss: 4.0526e-05 - mae: 0.0062 - val_loss: 7.3047e-04 - val_mae: 0.0097\n",
      "Epoch 31/5000\n",
      "\u001b[1m16/16\u001b[0m \u001b[32m━━━━━━━━━━━━━━━━━━━━\u001b[0m\u001b[37m\u001b[0m \u001b[1m0s\u001b[0m 25ms/step - loss: 3.6647e-05 - mae: 0.0060 - val_loss: 7.5181e-04 - val_mae: 0.0164\n",
      "Epoch 32/5000\n",
      "\u001b[1m16/16\u001b[0m \u001b[32m━━━━━━━━━━━━━━━━━━━━\u001b[0m\u001b[37m\u001b[0m \u001b[1m0s\u001b[0m 26ms/step - loss: 8.4896e-05 - mae: 0.0093 - val_loss: 8.7381e-04 - val_mae: 0.0101\n",
      "Epoch 33/5000\n",
      "\u001b[1m16/16\u001b[0m \u001b[32m━━━━━━━━━━━━━━━━━━━━\u001b[0m\u001b[37m\u001b[0m \u001b[1m0s\u001b[0m 26ms/step - loss: 3.3344e-05 - mae: 0.0056 - val_loss: 6.1434e-04 - val_mae: 0.0119\n",
      "Epoch 34/5000\n",
      "\u001b[1m16/16\u001b[0m \u001b[32m━━━━━━━━━━━━━━━━━━━━\u001b[0m\u001b[37m\u001b[0m \u001b[1m0s\u001b[0m 23ms/step - loss: 5.8472e-05 - mae: 0.0076 - val_loss: 0.0012 - val_mae: 0.0190\n",
      "Epoch 35/5000\n",
      "\u001b[1m16/16\u001b[0m \u001b[32m━━━━━━━━━━━━━━━━━━━━\u001b[0m\u001b[37m\u001b[0m \u001b[1m0s\u001b[0m 22ms/step - loss: 1.0070e-04 - mae: 0.0110 - val_loss: 7.5379e-04 - val_mae: 0.0102\n",
      "Epoch 36/5000\n",
      "\u001b[1m16/16\u001b[0m \u001b[32m━━━━━━━━━━━━━━━━━━━━\u001b[0m\u001b[37m\u001b[0m \u001b[1m0s\u001b[0m 23ms/step - loss: 4.4606e-05 - mae: 0.0065 - val_loss: 6.6356e-04 - val_mae: 0.0096\n",
      "Epoch 37/5000\n",
      "\u001b[1m16/16\u001b[0m \u001b[32m━━━━━━━━━━━━━━━━━━━━\u001b[0m\u001b[37m\u001b[0m \u001b[1m0s\u001b[0m 23ms/step - loss: 2.9345e-05 - mae: 0.0053 - val_loss: 9.2047e-04 - val_mae: 0.0108\n",
      "Epoch 38/5000\n",
      "\u001b[1m16/16\u001b[0m \u001b[32m━━━━━━━━━━━━━━━━━━━━\u001b[0m\u001b[37m\u001b[0m \u001b[1m0s\u001b[0m 23ms/step - loss: 3.0981e-05 - mae: 0.0050 - val_loss: 6.9426e-04 - val_mae: 0.0113\n",
      "Epoch 39/5000\n",
      "\u001b[1m16/16\u001b[0m \u001b[32m━━━━━━━━━━━━━━━━━━━━\u001b[0m\u001b[37m\u001b[0m \u001b[1m0s\u001b[0m 24ms/step - loss: 2.5859e-05 - mae: 0.0049 - val_loss: 0.0012 - val_mae: 0.0119\n",
      "Epoch 40/5000\n",
      "\u001b[1m16/16\u001b[0m \u001b[32m━━━━━━━━━━━━━━━━━━━━\u001b[0m\u001b[37m\u001b[0m \u001b[1m0s\u001b[0m 25ms/step - loss: 2.7217e-05 - mae: 0.0052 - val_loss: 6.3158e-04 - val_mae: 0.0100\n",
      "Epoch 41/5000\n",
      "\u001b[1m16/16\u001b[0m \u001b[32m━━━━━━━━━━━━━━━━━━━━\u001b[0m\u001b[37m\u001b[0m \u001b[1m0s\u001b[0m 25ms/step - loss: 3.5189e-05 - mae: 0.0058 - val_loss: 9.8237e-04 - val_mae: 0.0128\n",
      "Epoch 42/5000\n",
      "\u001b[1m16/16\u001b[0m \u001b[32m━━━━━━━━━━━━━━━━━━━━\u001b[0m\u001b[37m\u001b[0m \u001b[1m0s\u001b[0m 27ms/step - loss: 2.7362e-05 - mae: 0.0054 - val_loss: 0.0010 - val_mae: 0.0116\n",
      "Epoch 43/5000\n",
      "\u001b[1m16/16\u001b[0m \u001b[32m━━━━━━━━━━━━━━━━━━━━\u001b[0m\u001b[37m\u001b[0m \u001b[1m0s\u001b[0m 25ms/step - loss: 3.2490e-05 - mae: 0.0051 - val_loss: 7.7320e-04 - val_mae: 0.0104\n",
      "Epoch 44/5000\n",
      "\u001b[1m16/16\u001b[0m \u001b[32m━━━━━━━━━━━━━━━━━━━━\u001b[0m\u001b[37m\u001b[0m \u001b[1m0s\u001b[0m 23ms/step - loss: 2.5899e-05 - mae: 0.0052 - val_loss: 3.8320e-04 - val_mae: 0.0095\n",
      "Epoch 45/5000\n",
      "\u001b[1m16/16\u001b[0m \u001b[32m━━━━━━━━━━━━━━━━━━━━\u001b[0m\u001b[37m\u001b[0m \u001b[1m0s\u001b[0m 23ms/step - loss: 4.2325e-05 - mae: 0.0065 - val_loss: 8.9366e-04 - val_mae: 0.0104\n",
      "Epoch 46/5000\n",
      "\u001b[1m16/16\u001b[0m \u001b[32m━━━━━━━━━━━━━━━━━━━━\u001b[0m\u001b[37m\u001b[0m \u001b[1m0s\u001b[0m 22ms/step - loss: 2.7351e-05 - mae: 0.0053 - val_loss: 6.3330e-04 - val_mae: 0.0105\n",
      "Epoch 47/5000\n",
      "\u001b[1m16/16\u001b[0m \u001b[32m━━━━━━━━━━━━━━━━━━━━\u001b[0m\u001b[37m\u001b[0m \u001b[1m0s\u001b[0m 23ms/step - loss: 3.4958e-05 - mae: 0.0060 - val_loss: 5.2995e-04 - val_mae: 0.0102\n",
      "Epoch 48/5000\n",
      "\u001b[1m16/16\u001b[0m \u001b[32m━━━━━━━━━━━━━━━━━━━━\u001b[0m\u001b[37m\u001b[0m \u001b[1m0s\u001b[0m 24ms/step - loss: 7.2647e-05 - mae: 0.0091 - val_loss: 0.0010 - val_mae: 0.0131\n",
      "Epoch 49/5000\n",
      "\u001b[1m16/16\u001b[0m \u001b[32m━━━━━━━━━━━━━━━━━━━━\u001b[0m\u001b[37m\u001b[0m \u001b[1m0s\u001b[0m 25ms/step - loss: 4.7374e-05 - mae: 0.0068 - val_loss: 0.0016 - val_mae: 0.0135\n",
      "Epoch 50/5000\n",
      "\u001b[1m16/16\u001b[0m \u001b[32m━━━━━━━━━━━━━━━━━━━━\u001b[0m\u001b[37m\u001b[0m \u001b[1m0s\u001b[0m 25ms/step - loss: 6.0692e-05 - mae: 0.0067 - val_loss: 0.0011 - val_mae: 0.0144\n",
      "Epoch 51/5000\n",
      "\u001b[1m16/16\u001b[0m \u001b[32m━━━━━━━━━━━━━━━━━━━━\u001b[0m\u001b[37m\u001b[0m \u001b[1m0s\u001b[0m 26ms/step - loss: 6.0081e-05 - mae: 0.0088 - val_loss: 6.2953e-04 - val_mae: 0.0104\n",
      "Epoch 52/5000\n",
      "\u001b[1m16/16\u001b[0m \u001b[32m━━━━━━━━━━━━━━━━━━━━\u001b[0m\u001b[37m\u001b[0m \u001b[1m0s\u001b[0m 26ms/step - loss: 4.5453e-05 - mae: 0.0063 - val_loss: 0.0015 - val_mae: 0.0125\n",
      "Epoch 53/5000\n",
      "\u001b[1m16/16\u001b[0m \u001b[32m━━━━━━━━━━━━━━━━━━━━\u001b[0m\u001b[37m\u001b[0m \u001b[1m0s\u001b[0m 27ms/step - loss: 2.6933e-05 - mae: 0.0045 - val_loss: 5.0238e-04 - val_mae: 0.0116\n",
      "Epoch 54/5000\n",
      "\u001b[1m16/16\u001b[0m \u001b[32m━━━━━━━━━━━━━━━━━━━━\u001b[0m\u001b[37m\u001b[0m \u001b[1m0s\u001b[0m 23ms/step - loss: 5.5048e-05 - mae: 0.0065 - val_loss: 8.9349e-04 - val_mae: 0.0144\n",
      "Epoch 55/5000\n",
      "\u001b[1m16/16\u001b[0m \u001b[32m━━━━━━━━━━━━━━━━━━━━\u001b[0m\u001b[37m\u001b[0m \u001b[1m0s\u001b[0m 23ms/step - loss: 4.9183e-05 - mae: 0.0071 - val_loss: 8.2227e-04 - val_mae: 0.0099\n",
      "Epoch 56/5000\n",
      "\u001b[1m16/16\u001b[0m \u001b[32m━━━━━━━━━━━━━━━━━━━━\u001b[0m\u001b[37m\u001b[0m \u001b[1m0s\u001b[0m 23ms/step - loss: 3.4798e-05 - mae: 0.0061 - val_loss: 8.3414e-04 - val_mae: 0.0098\n",
      "Epoch 57/5000\n",
      "\u001b[1m16/16\u001b[0m \u001b[32m━━━━━━━━━━━━━━━━━━━━\u001b[0m\u001b[37m\u001b[0m \u001b[1m0s\u001b[0m 23ms/step - loss: 2.5221e-05 - mae: 0.0050 - val_loss: 8.9303e-04 - val_mae: 0.0114\n",
      "Epoch 58/5000\n",
      "\u001b[1m16/16\u001b[0m \u001b[32m━━━━━━━━━━━━━━━━━━━━\u001b[0m\u001b[37m\u001b[0m \u001b[1m0s\u001b[0m 24ms/step - loss: 2.6724e-05 - mae: 0.0052 - val_loss: 7.6567e-04 - val_mae: 0.0145\n",
      "Epoch 59/5000\n",
      "\u001b[1m16/16\u001b[0m \u001b[32m━━━━━━━━━━━━━━━━━━━━\u001b[0m\u001b[37m\u001b[0m \u001b[1m0s\u001b[0m 25ms/step - loss: 9.1969e-05 - mae: 0.0106 - val_loss: 0.0011 - val_mae: 0.0177\n",
      "Epoch 60/5000\n",
      "\u001b[1m16/16\u001b[0m \u001b[32m━━━━━━━━━━━━━━━━━━━━\u001b[0m\u001b[37m\u001b[0m \u001b[1m0s\u001b[0m 25ms/step - loss: 8.7542e-05 - mae: 0.0105 - val_loss: 6.5968e-04 - val_mae: 0.0105\n",
      "Epoch 61/5000\n",
      "\u001b[1m16/16\u001b[0m \u001b[32m━━━━━━━━━━━━━━━━━━━━\u001b[0m\u001b[37m\u001b[0m \u001b[1m0s\u001b[0m 25ms/step - loss: 3.4452e-05 - mae: 0.0059 - val_loss: 5.9348e-04 - val_mae: 0.0085\n",
      "Epoch 62/5000\n",
      "\u001b[1m16/16\u001b[0m \u001b[32m━━━━━━━━━━━━━━━━━━━━\u001b[0m\u001b[37m\u001b[0m \u001b[1m0s\u001b[0m 27ms/step - loss: 2.3187e-05 - mae: 0.0045 - val_loss: 7.4179e-04 - val_mae: 0.0097\n",
      "Epoch 63/5000\n",
      "\u001b[1m16/16\u001b[0m \u001b[32m━━━━━━━━━━━━━━━━━━━━\u001b[0m\u001b[37m\u001b[0m \u001b[1m0s\u001b[0m 24ms/step - loss: 2.5491e-05 - mae: 0.0049 - val_loss: 7.0911e-04 - val_mae: 0.0095\n",
      "Epoch 64/5000\n",
      "\u001b[1m16/16\u001b[0m \u001b[32m━━━━━━━━━━━━━━━━━━━━\u001b[0m\u001b[37m\u001b[0m \u001b[1m0s\u001b[0m 23ms/step - loss: 1.8286e-05 - mae: 0.0042 - val_loss: 5.6925e-04 - val_mae: 0.0088\n",
      "Epoch 65/5000\n",
      "\u001b[1m16/16\u001b[0m \u001b[32m━━━━━━━━━━━━━━━━━━━━\u001b[0m\u001b[37m\u001b[0m \u001b[1m0s\u001b[0m 23ms/step - loss: 2.5408e-05 - mae: 0.0052 - val_loss: 9.4718e-04 - val_mae: 0.0115\n",
      "Epoch 66/5000\n",
      "\u001b[1m16/16\u001b[0m \u001b[32m━━━━━━━━━━━━━━━━━━━━\u001b[0m\u001b[37m\u001b[0m \u001b[1m0s\u001b[0m 23ms/step - loss: 3.9443e-05 - mae: 0.0061 - val_loss: 4.9002e-04 - val_mae: 0.0086\n",
      "Epoch 67/5000\n",
      "\u001b[1m16/16\u001b[0m \u001b[32m━━━━━━━━━━━━━━━━━━━━\u001b[0m\u001b[37m\u001b[0m \u001b[1m0s\u001b[0m 23ms/step - loss: 5.7103e-05 - mae: 0.0054 - val_loss: 0.0012 - val_mae: 0.0204\n",
      "Epoch 68/5000\n",
      "\u001b[1m16/16\u001b[0m \u001b[32m━━━━━━━━━━━━━━━━━━━━\u001b[0m\u001b[37m\u001b[0m \u001b[1m0s\u001b[0m 24ms/step - loss: 1.6863e-04 - mae: 0.0134 - val_loss: 0.0012 - val_mae: 0.0150\n",
      "Epoch 69/5000\n",
      "\u001b[1m16/16\u001b[0m \u001b[32m━━━━━━━━━━━━━━━━━━━━\u001b[0m\u001b[37m\u001b[0m \u001b[1m0s\u001b[0m 25ms/step - loss: 6.9992e-05 - mae: 0.0078 - val_loss: 5.6564e-04 - val_mae: 0.0101\n",
      "Epoch 70/5000\n",
      "\u001b[1m16/16\u001b[0m \u001b[32m━━━━━━━━━━━━━━━━━━━━\u001b[0m\u001b[37m\u001b[0m \u001b[1m0s\u001b[0m 25ms/step - loss: 2.8926e-05 - mae: 0.0053 - val_loss: 8.4226e-04 - val_mae: 0.0097\n",
      "Epoch 71/5000\n",
      "\u001b[1m16/16\u001b[0m \u001b[32m━━━━━━━━━━━━━━━━━━━━\u001b[0m\u001b[37m\u001b[0m \u001b[1m0s\u001b[0m 27ms/step - loss: 2.8605e-05 - mae: 0.0052 - val_loss: 6.0616e-04 - val_mae: 0.0093\n",
      "Epoch 72/5000\n",
      "\u001b[1m16/16\u001b[0m \u001b[32m━━━━━━━━━━━━━━━━━━━━\u001b[0m\u001b[37m\u001b[0m \u001b[1m0s\u001b[0m 27ms/step - loss: 2.4284e-05 - mae: 0.0048 - val_loss: 0.0011 - val_mae: 0.0107\n",
      "Epoch 73/5000\n",
      "\u001b[1m16/16\u001b[0m \u001b[32m━━━━━━━━━━━━━━━━━━━━\u001b[0m\u001b[37m\u001b[0m \u001b[1m0s\u001b[0m 23ms/step - loss: 3.2264e-05 - mae: 0.0052 - val_loss: 7.6368e-04 - val_mae: 0.0110\n",
      "Epoch 74/5000\n",
      "\u001b[1m16/16\u001b[0m \u001b[32m━━━━━━━━━━━━━━━━━━━━\u001b[0m\u001b[37m\u001b[0m \u001b[1m0s\u001b[0m 25ms/step - loss: 2.3354e-05 - mae: 0.0048 - val_loss: 7.1889e-04 - val_mae: 0.0114\n",
      "Epoch 75/5000\n",
      "\u001b[1m16/16\u001b[0m \u001b[32m━━━━━━━━━━━━━━━━━━━━\u001b[0m\u001b[37m\u001b[0m \u001b[1m0s\u001b[0m 23ms/step - loss: 4.0435e-05 - mae: 0.0068 - val_loss: 5.6433e-04 - val_mae: 0.0095\n",
      "Epoch 76/5000\n",
      "\u001b[1m16/16\u001b[0m \u001b[32m━━━━━━━━━━━━━━━━━━━━\u001b[0m\u001b[37m\u001b[0m \u001b[1m0s\u001b[0m 23ms/step - loss: 2.4013e-05 - mae: 0.0047 - val_loss: 4.5731e-04 - val_mae: 0.0090\n",
      "Epoch 77/5000\n",
      "\u001b[1m16/16\u001b[0m \u001b[32m━━━━━━━━━━━━━━━━━━━━\u001b[0m\u001b[37m\u001b[0m \u001b[1m0s\u001b[0m 25ms/step - loss: 3.7168e-05 - mae: 0.0061 - val_loss: 6.1988e-04 - val_mae: 0.0086\n",
      "Epoch 78/5000\n",
      "\u001b[1m16/16\u001b[0m \u001b[32m━━━━━━━━━━━━━━━━━━━━\u001b[0m\u001b[37m\u001b[0m \u001b[1m0s\u001b[0m 25ms/step - loss: 3.2353e-05 - mae: 0.0055 - val_loss: 8.3462e-04 - val_mae: 0.0095\n",
      "Epoch 79/5000\n",
      "\u001b[1m16/16\u001b[0m \u001b[32m━━━━━━━━━━━━━━━━━━━━\u001b[0m\u001b[37m\u001b[0m \u001b[1m0s\u001b[0m 26ms/step - loss: 2.3091e-05 - mae: 0.0046 - val_loss: 7.6987e-04 - val_mae: 0.0118\n",
      "Epoch 80/5000\n",
      "\u001b[1m16/16\u001b[0m \u001b[32m━━━━━━━━━━━━━━━━━━━━\u001b[0m\u001b[37m\u001b[0m \u001b[1m0s\u001b[0m 26ms/step - loss: 3.6830e-05 - mae: 0.0065 - val_loss: 4.3511e-04 - val_mae: 0.0083\n",
      "Epoch 81/5000\n",
      "\u001b[1m16/16\u001b[0m \u001b[32m━━━━━━━━━━━━━━━━━━━━\u001b[0m\u001b[37m\u001b[0m \u001b[1m0s\u001b[0m 26ms/step - loss: 5.1283e-05 - mae: 0.0054 - val_loss: 0.0011 - val_mae: 0.0107\n",
      "Epoch 82/5000\n",
      "\u001b[1m16/16\u001b[0m \u001b[32m━━━━━━━━━━━━━━━━━━━━\u001b[0m\u001b[37m\u001b[0m \u001b[1m0s\u001b[0m 25ms/step - loss: 3.4758e-05 - mae: 0.0051 - val_loss: 1.4982e-04 - val_mae: 0.0096\n",
      "Epoch 83/5000\n",
      "\u001b[1m16/16\u001b[0m \u001b[32m━━━━━━━━━━━━━━━━━━━━\u001b[0m\u001b[37m\u001b[0m \u001b[1m0s\u001b[0m 23ms/step - loss: 7.5426e-05 - mae: 0.0080 - val_loss: 7.2546e-04 - val_mae: 0.0105\n",
      "Epoch 84/5000\n",
      "\u001b[1m16/16\u001b[0m \u001b[32m━━━━━━━━━━━━━━━━━━━━\u001b[0m\u001b[37m\u001b[0m \u001b[1m0s\u001b[0m 23ms/step - loss: 3.7529e-05 - mae: 0.0061 - val_loss: 0.0016 - val_mae: 0.0142\n",
      "Epoch 85/5000\n",
      "\u001b[1m16/16\u001b[0m \u001b[32m━━━━━━━━━━━━━━━━━━━━\u001b[0m\u001b[37m\u001b[0m \u001b[1m0s\u001b[0m 23ms/step - loss: 3.8694e-05 - mae: 0.0062 - val_loss: 3.4323e-04 - val_mae: 0.0097\n",
      "Epoch 86/5000\n",
      "\u001b[1m16/16\u001b[0m \u001b[32m━━━━━━━━━━━━━━━━━━━━\u001b[0m\u001b[37m\u001b[0m \u001b[1m0s\u001b[0m 23ms/step - loss: 5.7567e-05 - mae: 0.0069 - val_loss: 0.0010 - val_mae: 0.0117\n",
      "Epoch 87/5000\n",
      "\u001b[1m16/16\u001b[0m \u001b[32m━━━━━━━━━━━━━━━━━━━━\u001b[0m\u001b[37m\u001b[0m \u001b[1m0s\u001b[0m 24ms/step - loss: 5.8754e-05 - mae: 0.0069 - val_loss: 3.6529e-04 - val_mae: 0.0080\n",
      "Epoch 88/5000\n",
      "\u001b[1m16/16\u001b[0m \u001b[32m━━━━━━━━━━━━━━━━━━━━\u001b[0m\u001b[37m\u001b[0m \u001b[1m0s\u001b[0m 25ms/step - loss: 2.6455e-05 - mae: 0.0049 - val_loss: 9.0017e-04 - val_mae: 0.0100\n",
      "Epoch 89/5000\n",
      "\u001b[1m16/16\u001b[0m \u001b[32m━━━━━━━━━━━━━━━━━━━━\u001b[0m\u001b[37m\u001b[0m \u001b[1m0s\u001b[0m 25ms/step - loss: 2.4820e-05 - mae: 0.0050 - val_loss: 5.0205e-04 - val_mae: 0.0109\n",
      "Epoch 90/5000\n",
      "\u001b[1m16/16\u001b[0m \u001b[32m━━━━━━━━━━━━━━━━━━━━\u001b[0m\u001b[37m\u001b[0m \u001b[1m0s\u001b[0m 25ms/step - loss: 2.1069e-05 - mae: 0.0047 - val_loss: 7.5345e-04 - val_mae: 0.0090\n",
      "Epoch 91/5000\n",
      "\u001b[1m16/16\u001b[0m \u001b[32m━━━━━━━━━━━━━━━━━━━━\u001b[0m\u001b[37m\u001b[0m \u001b[1m0s\u001b[0m 26ms/step - loss: 1.9673e-05 - mae: 0.0043 - val_loss: 8.8709e-04 - val_mae: 0.0113\n",
      "Epoch 92/5000\n",
      "\u001b[1m16/16\u001b[0m \u001b[32m━━━━━━━━━━━━━━━━━━━━\u001b[0m\u001b[37m\u001b[0m \u001b[1m0s\u001b[0m 24ms/step - loss: 2.4311e-05 - mae: 0.0048 - val_loss: 3.9038e-04 - val_mae: 0.0079\n",
      "Epoch 93/5000\n",
      "\u001b[1m16/16\u001b[0m \u001b[32m━━━━━━━━━━━━━━━━━━━━\u001b[0m\u001b[37m\u001b[0m \u001b[1m0s\u001b[0m 23ms/step - loss: 1.7766e-05 - mae: 0.0040 - val_loss: 9.7006e-04 - val_mae: 0.0107\n",
      "Epoch 94/5000\n",
      "\u001b[1m16/16\u001b[0m \u001b[32m━━━━━━━━━━━━━━━━━━━━\u001b[0m\u001b[37m\u001b[0m \u001b[1m0s\u001b[0m 25ms/step - loss: 3.2344e-05 - mae: 0.0057 - val_loss: 6.8931e-04 - val_mae: 0.0088\n",
      "Epoch 95/5000\n",
      "\u001b[1m16/16\u001b[0m \u001b[32m━━━━━━━━━━━━━━━━━━━━\u001b[0m\u001b[37m\u001b[0m \u001b[1m0s\u001b[0m 22ms/step - loss: 2.1850e-05 - mae: 0.0044 - val_loss: 5.0387e-04 - val_mae: 0.0090\n",
      "Epoch 96/5000\n",
      "\u001b[1m16/16\u001b[0m \u001b[32m━━━━━━━━━━━━━━━━━━━━\u001b[0m\u001b[37m\u001b[0m \u001b[1m0s\u001b[0m 23ms/step - loss: 1.7846e-05 - mae: 0.0041 - val_loss: 7.9671e-04 - val_mae: 0.0118\n",
      "Epoch 97/5000\n",
      "\u001b[1m16/16\u001b[0m \u001b[32m━━━━━━━━━━━━━━━━━━━━\u001b[0m\u001b[37m\u001b[0m \u001b[1m0s\u001b[0m 24ms/step - loss: 2.7305e-05 - mae: 0.0052 - val_loss: 5.7248e-04 - val_mae: 0.0091\n",
      "Epoch 98/5000\n",
      "\u001b[1m16/16\u001b[0m \u001b[32m━━━━━━━━━━━━━━━━━━━━\u001b[0m\u001b[37m\u001b[0m \u001b[1m0s\u001b[0m 24ms/step - loss: 2.7555e-05 - mae: 0.0052 - val_loss: 8.8061e-04 - val_mae: 0.0096\n",
      "Epoch 99/5000\n",
      "\u001b[1m16/16\u001b[0m \u001b[32m━━━━━━━━━━━━━━━━━━━━\u001b[0m\u001b[37m\u001b[0m \u001b[1m0s\u001b[0m 25ms/step - loss: 3.9258e-05 - mae: 0.0067 - val_loss: 9.4591e-04 - val_mae: 0.0096\n",
      "Epoch 100/5000\n",
      "\u001b[1m16/16\u001b[0m \u001b[32m━━━━━━━━━━━━━━━━━━━━\u001b[0m\u001b[37m\u001b[0m \u001b[1m0s\u001b[0m 26ms/step - loss: 2.0775e-05 - mae: 0.0047 - val_loss: 4.1025e-04 - val_mae: 0.0088\n",
      "Epoch 101/5000\n",
      "\u001b[1m16/16\u001b[0m \u001b[32m━━━━━━━━━━━━━━━━━━━━\u001b[0m\u001b[37m\u001b[0m \u001b[1m0s\u001b[0m 26ms/step - loss: 1.0389e-04 - mae: 0.0102 - val_loss: 0.0017 - val_mae: 0.0145\n",
      "Epoch 102/5000\n",
      "\u001b[1m16/16\u001b[0m \u001b[32m━━━━━━━━━━━━━━━━━━━━\u001b[0m\u001b[37m\u001b[0m \u001b[1m0s\u001b[0m 23ms/step - loss: 7.0212e-05 - mae: 0.0066 - val_loss: 5.2000e-04 - val_mae: 0.0113\n",
      "Epoch 103/5000\n",
      "\u001b[1m16/16\u001b[0m \u001b[32m━━━━━━━━━━━━━━━━━━━━\u001b[0m\u001b[37m\u001b[0m \u001b[1m0s\u001b[0m 23ms/step - loss: 4.5595e-05 - mae: 0.0073 - val_loss: 8.9768e-04 - val_mae: 0.0106\n",
      "Epoch 103: early stopping\n"
     ]
    }
   ],
   "source": [
    " # Train model\n",
    "history = model.fit(\n",
    "    X_train_reshaped, y_train, \n",
    "    epochs=5000, \n",
    "    batch_size=32, \n",
    "    validation_data=(X_test_reshaped, y_test), \n",
    "    callbacks=[mcp_save, early_stopping]\n",
    ")"
   ]
  },
  {
   "cell_type": "markdown",
   "metadata": {
    "colab_type": "text",
    "id": "LRZ1nHe0Gjy5"
   },
   "source": [
    "# **Testing Model**\n"
   ]
  },
  {
   "cell_type": "code",
   "execution_count": 31,
   "metadata": {},
   "outputs": [],
   "source": [
    "# Load the trained model\n",
    "prediction_model = load_model('trained_models/GRU_reg_new.keras', compile=False)"
   ]
  },
  {
   "cell_type": "code",
   "execution_count": 32,
   "metadata": {},
   "outputs": [
    {
     "name": "stdout",
     "output_type": "stream",
     "text": [
      "\u001b[1m4/4\u001b[0m \u001b[32m━━━━━━━━━━━━━━━━━━━━\u001b[0m\u001b[37m\u001b[0m \u001b[1m1s\u001b[0m 150ms/step\n"
     ]
    }
   ],
   "source": [
    "# Make predictions on scaled data\n",
    "y_pred_scaled = prediction_model.predict(X_test_reshaped).flatten()"
   ]
  },
  {
   "cell_type": "code",
   "execution_count": 33,
   "metadata": {},
   "outputs": [],
   "source": [
    "# Inverse transform predictions and actual values\n",
    "y_pred = target_scaler.inverse_transform(y_pred_scaled.reshape(-1, 1)).flatten()\n",
    "y_test_original = target_scaler.inverse_transform(y_test).flatten()"
   ]
  },
  {
   "cell_type": "code",
   "execution_count": 34,
   "metadata": {},
   "outputs": [],
   "source": [
    "# Create comprehensive comparison DataFrame\n",
    "comparison_df = pd.DataFrame({\n",
    "    'Actual Price': y_test_original,\n",
    "    'Predicted Price': y_pred,\n",
    "    'Absolute Error': np.abs(y_test_original - y_pred),\n",
    "    'Percentage Error': np.abs(y_test_original - y_pred) / y_test_original * 100\n",
    "})"
   ]
  },
  {
   "cell_type": "code",
   "execution_count": 35,
   "metadata": {},
   "outputs": [],
   "source": [
    "# Calculate performance metrics\n",
    "r2 = r2_score(y_test_original, y_pred)\n",
    "mae = mean_absolute_error(y_test_original, y_pred)\n",
    "rmse = np.sqrt(mean_squared_error(y_test_original, y_pred))\n",
    "mape = commons.mean_absolute_percentage_error(y_test_original, y_pred)"
   ]
  },
  {
   "cell_type": "code",
   "execution_count": 36,
   "metadata": {},
   "outputs": [
    {
     "name": "stdout",
     "output_type": "stream",
     "text": [
      "Model Performance Metrics:\n",
      "                               Metric    Value\n",
      "            Mean Absolute Error (MAE) 0.005327\n",
      "        Root Mean Square Error (RMSE) 0.007616\n",
      "Mean Absolute Percentage Error (MAPE) 6.974751\n",
      "                       R-squared (R²) 0.965771\n"
     ]
    }
   ],
   "source": [
    "# Print results with more detailed formatting\n",
    "print(\"Model Performance Metrics:\")\n",
    "metrics_df = pd.DataFrame({\n",
    "    'Metric': ['Mean Absolute Error (MAE)', \n",
    "               'Root Mean Square Error (RMSE)', \n",
    "               'Mean Absolute Percentage Error (MAPE)', \n",
    "               'R-squared (R²)'],\n",
    "    'Value': [mae, rmse, mape, r2]\n",
    "})\n",
    "print(metrics_df.to_string(index=False))"
   ]
  },
  {
   "cell_type": "code",
   "execution_count": 37,
   "metadata": {},
   "outputs": [
    {
     "name": "stdout",
     "output_type": "stream",
     "text": [
      "\n",
      "Price Prediction Comparison:\n",
      "     Actual Price  Predicted Price  Absolute Error  Percentage Error\n",
      "0        0.066545         0.063811        0.002734          4.108219\n",
      "1        0.066230         0.061946        0.004284          6.468598\n",
      "2        0.068493         0.067222        0.001271          1.855177\n",
      "3        0.052087         0.046542        0.005544         10.644442\n",
      "4        0.051458         0.053577        0.002119          4.117998\n",
      "..            ...              ...             ...               ...\n",
      "116      0.089488         0.084204        0.005284          5.905103\n",
      "117      0.075785         0.076876        0.001091          1.439981\n",
      "118      0.077922         0.074611        0.003311          4.249699\n",
      "119      0.082385         0.089831        0.007446          9.037629\n",
      "120      0.051270         0.051842        0.000572          1.116421\n",
      "\n",
      "[121 rows x 4 columns]\n"
     ]
    }
   ],
   "source": [
    "# Print comprehensive comparison DataFrame\n",
    "print(\"\\nPrice Prediction Comparison:\")\n",
    "print(comparison_df)"
   ]
  },
  {
   "cell_type": "code",
   "execution_count": 38,
   "metadata": {},
   "outputs": [
    {
     "data": {
      "image/png": "[encoded data removed]",
      "text/plain": [
       "<Figure size 1200x600 with 1 Axes>"
      ]
     },
     "metadata": {},
     "output_type": "display_data"
    }
   ],
   "source": [
    "# Visualization of predictions\n",
    "plt.figure(figsize=(12, 6))\n",
    "plt.scatter(y_test_original, y_pred, alpha=0.7, label='Predictions')\n",
    "plt.plot([y_test_original.min(), y_test_original.max()], \n",
    "         [y_test_original.min(), y_test_original.max()], \n",
    "         'r--', lw=2, label='Perfect Prediction Line')\n",
    "plt.title('Predicted vs Actual Prices', fontsize=15)\n",
    "plt.xlabel('Actual Prices', fontsize=12)\n",
    "plt.ylabel('Predicted Prices', fontsize=12)\n",
    "plt.legend()\n",
    "plt.tight_layout()\n",
    "plt.show()"
   ]
  },
  {
   "cell_type": "code",
   "execution_count": null,
   "metadata": {},
   "outputs": [],
   "source": []
  },
  {
   "cell_type": "code",
   "execution_count": null,
   "metadata": {},
   "outputs": [],
   "source": []
  },
  {
   "cell_type": "code",
   "execution_count": 241,
   "metadata": {},
   "outputs": [
    {
     "name": "stdout",
     "output_type": "stream",
     "text": [
      "\u001b[1m4/4\u001b[0m \u001b[32m━━━━━━━━━━━━━━━━━━━━\u001b[0m\u001b[37m\u001b[0m \u001b[1m1s\u001b[0m 150ms/step\n"
     ]
    }
   ],
   "source": [
    "y_pred_scaled = model.predict(X_test_reshaped).flatten()\n",
    "    \n",
    "# Inverse transform predictions and actual values\n",
    "y_pred = target_scaler.inverse_transform(y_pred_scaled.reshape(-1, 1)).flatten()\n",
    "y_test_original = target_scaler.inverse_transform(y_test).flatten()"
   ]
  },
  {
   "cell_type": "code",
   "execution_count": 242,
   "metadata": {},
   "outputs": [],
   "source": [
    "# Create comparison DataFrame with original prices\n",
    "comparison_df = pd.DataFrame({\n",
    "    'Actual Price': y_test_original,\n",
    "    'Predicted Price': y_pred,\n",
    "    'Absolute Error': np.abs(y_test_original - y_pred)\n",
    "})"
   ]
  },
  {
   "cell_type": "code",
   "execution_count": 243,
   "metadata": {},
   "outputs": [],
   "source": [
    "# Metrics (using original prices)\n",
    "r2 = r2_score(y_test_original, y_pred)\n",
    "mae = mean_absolute_error(y_test_original, y_pred)\n",
    "rmse = np.sqrt(mean_squared_error(y_test_original, y_pred))\n",
    "mape = commons.mean_absolute_percentage_error(y_test_original, y_pred)"
   ]
  },
  {
   "cell_type": "code",
   "execution_count": 244,
   "metadata": {},
   "outputs": [
    {
     "name": "stdout",
     "output_type": "stream",
     "text": [
      "Model Performance Metrics:\n",
      "  Metric     Value\n",
      "0    MAE  0.002576\n",
      "1   RMSE  0.003901\n",
      "2   MAPE  3.758281\n",
      "3     R²  0.942121\n"
     ]
    }
   ],
   "source": [
    "# Print and visualize results\n",
    "print(\"Model Performance Metrics:\")\n",
    "metrics_df = pd.DataFrame({\n",
    "    'Metric': ['MAE', 'RMSE', 'MAPE', 'R²'],\n",
    "    'Value': [mae, rmse, mape, r2]\n",
    "})\n",
    "print(metrics_df)"
   ]
  },
  {
   "cell_type": "code",
   "execution_count": 245,
   "metadata": {},
   "outputs": [
    {
     "name": "stdout",
     "output_type": "stream",
     "text": [
      "\n",
      "Price Prediction Comparison:\n",
      "     Actual Price  Predicted Price  Absolute Error\n",
      "0        0.046258         0.043378        0.002880\n",
      "1        0.063845         0.059326        0.004519\n",
      "2        0.061686         0.061996        0.000310\n",
      "3        0.044988         0.044532        0.000456\n",
      "4        0.045306         0.044870        0.000436\n",
      "..            ...              ...             ...\n",
      "116      0.083781         0.079106        0.004675\n",
      "117      0.069940         0.070858        0.000919\n",
      "118      0.072098         0.074759        0.002660\n",
      "119      0.082765         0.090734        0.007969\n",
      "120      0.043782         0.044627        0.000846\n",
      "\n",
      "[121 rows x 3 columns]\n"
     ]
    }
   ],
   "source": [
    "# Print comparison DataFrame\n",
    "print(\"\\nPrice Prediction Comparison:\")\n",
    "print(comparison_df)"
   ]
  },
  {
   "cell_type": "code",
   "execution_count": 246,
   "metadata": {},
   "outputs": [
    {
     "data": {
      "image/png": "[encoded data removed]",
      "text/plain": [
       "<Figure size 1000x600 with 1 Axes>"
      ]
     },
     "metadata": {},
     "output_type": "display_data"
    }
   ],
   "source": [
    "# Prediction vs Actual Plot\n",
    "plt.figure(figsize=(10, 6))\n",
    "plt.scatter(y_test_original, y_pred, alpha=0.5)\n",
    "plt.plot([y_test_original.min(), y_test_original.max()], \n",
    "            [y_test_original.min(), y_test_original.max()], \n",
    "            'r--', lw=2)\n",
    "plt.title('Predicted vs Actual Prices')\n",
    "plt.xlabel('Actual Prices')\n",
    "plt.ylabel('Predicted Prices')\n",
    "plt.tight_layout()\n",
    "plt.show()"
   ]
  },
  {
   "cell_type": "code",
   "execution_count": null,
   "metadata": {},
   "outputs": [],
   "source": []
  },
  {
   "cell_type": "code",
   "execution_count": 247,
   "metadata": {
    "colab": {},
    "colab_type": "code",
    "id": "qyAUCY0FGwsM"
   },
   "outputs": [],
   "source": [
    "from tensorflow.keras.models import load_model\n",
    "prediction_model = load_model('trained_models/GRU_reg_new.keras',compile=False)"
   ]
  },
  {
   "cell_type": "code",
   "execution_count": 248,
   "metadata": {
    "colab": {
     "base_uri": "https://localhost:8080/",
     "height": 283
    },
    "colab_type": "code",
    "id": "lT71_QwcHEof",
    "outputId": "674692de-7a3b-4e60-addc-39ce1d9a328d"
   },
   "outputs": [
    {
     "ename": "ValueError",
     "evalue": "Exception encountered when calling Sequential.call().\n\n\u001b[1mInvalid input shape for input Tensor(\"data:0\", shape=(32, 14), dtype=float32). Expected shape (None, 1, 14), but input has incompatible shape (32, 14)\u001b[0m\n\nArguments received by Sequential.call():\n  • inputs=tf.Tensor(shape=(32, 14), dtype=float32)\n  • training=False\n  • mask=None",
     "output_type": "error",
     "traceback": [
      "\u001b[1;31m---------------------------------------------------------------------------\u001b[0m",
      "\u001b[1;31mValueError\u001b[0m                                Traceback (most recent call last)",
      "Cell \u001b[1;32mIn[248], line 1\u001b[0m\n\u001b[1;32m----> 1\u001b[0m y_pred \u001b[38;5;241m=\u001b[39m \u001b[43mprediction_model\u001b[49m\u001b[38;5;241;43m.\u001b[39;49m\u001b[43mpredict\u001b[49m\u001b[43m(\u001b[49m\u001b[43mX_test\u001b[49m\u001b[43m)\u001b[49m\u001b[38;5;241m.\u001b[39mflatten()\n",
      "File \u001b[1;32mg:\\University\\Term 3\\Pattern Recognition\\Presentation\\Code\\venv\\Lib\\site-packages\\keras\\src\\utils\\traceback_utils.py:122\u001b[0m, in \u001b[0;36mfilter_traceback.<locals>.error_handler\u001b[1;34m(*args, **kwargs)\u001b[0m\n\u001b[0;32m    119\u001b[0m     filtered_tb \u001b[38;5;241m=\u001b[39m _process_traceback_frames(e\u001b[38;5;241m.\u001b[39m__traceback__)\n\u001b[0;32m    120\u001b[0m     \u001b[38;5;66;03m# To get the full stack trace, call:\u001b[39;00m\n\u001b[0;32m    121\u001b[0m     \u001b[38;5;66;03m# `keras.config.disable_traceback_filtering()`\u001b[39;00m\n\u001b[1;32m--> 122\u001b[0m     \u001b[38;5;28;01mraise\u001b[39;00m e\u001b[38;5;241m.\u001b[39mwith_traceback(filtered_tb) \u001b[38;5;28;01mfrom\u001b[39;00m \u001b[38;5;28;01mNone\u001b[39;00m\n\u001b[0;32m    123\u001b[0m \u001b[38;5;28;01mfinally\u001b[39;00m:\n\u001b[0;32m    124\u001b[0m     \u001b[38;5;28;01mdel\u001b[39;00m filtered_tb\n",
      "File \u001b[1;32mg:\\University\\Term 3\\Pattern Recognition\\Presentation\\Code\\venv\\Lib\\site-packages\\keras\\src\\models\\functional.py:273\u001b[0m, in \u001b[0;36mFunctional._adjust_input_rank\u001b[1;34m(self, flat_inputs)\u001b[0m\n\u001b[0;32m    271\u001b[0m             adjusted\u001b[38;5;241m.\u001b[39mappend(ops\u001b[38;5;241m.\u001b[39mexpand_dims(x, axis\u001b[38;5;241m=\u001b[39m\u001b[38;5;241m-\u001b[39m\u001b[38;5;241m1\u001b[39m))\n\u001b[0;32m    272\u001b[0m             \u001b[38;5;28;01mcontinue\u001b[39;00m\n\u001b[1;32m--> 273\u001b[0m     \u001b[38;5;28;01mraise\u001b[39;00m \u001b[38;5;167;01mValueError\u001b[39;00m(\n\u001b[0;32m    274\u001b[0m         \u001b[38;5;124mf\u001b[39m\u001b[38;5;124m\"\u001b[39m\u001b[38;5;124mInvalid input shape for input \u001b[39m\u001b[38;5;132;01m{\u001b[39;00mx\u001b[38;5;132;01m}\u001b[39;00m\u001b[38;5;124m. Expected shape \u001b[39m\u001b[38;5;124m\"\u001b[39m\n\u001b[0;32m    275\u001b[0m         \u001b[38;5;124mf\u001b[39m\u001b[38;5;124m\"\u001b[39m\u001b[38;5;132;01m{\u001b[39;00mref_shape\u001b[38;5;132;01m}\u001b[39;00m\u001b[38;5;124m, but input has incompatible shape \u001b[39m\u001b[38;5;132;01m{\u001b[39;00mx\u001b[38;5;241m.\u001b[39mshape\u001b[38;5;132;01m}\u001b[39;00m\u001b[38;5;124m\"\u001b[39m\n\u001b[0;32m    276\u001b[0m     )\n\u001b[0;32m    277\u001b[0m \u001b[38;5;66;03m# Add back metadata.\u001b[39;00m\n\u001b[0;32m    278\u001b[0m \u001b[38;5;28;01mfor\u001b[39;00m i \u001b[38;5;129;01min\u001b[39;00m \u001b[38;5;28mrange\u001b[39m(\u001b[38;5;28mlen\u001b[39m(flat_inputs)):\n",
      "\u001b[1;31mValueError\u001b[0m: Exception encountered when calling Sequential.call().\n\n\u001b[1mInvalid input shape for input Tensor(\"data:0\", shape=(32, 14), dtype=float32). Expected shape (None, 1, 14), but input has incompatible shape (32, 14)\u001b[0m\n\nArguments received by Sequential.call():\n  • inputs=tf.Tensor(shape=(32, 14), dtype=float32)\n  • training=False\n  • mask=None"
     ]
    }
   ],
   "source": [
    "y_pred = prediction_model.predict(X_test).flatten()"
   ]
  },
  {
   "cell_type": "code",
   "execution_count": 53,
   "metadata": {},
   "outputs": [],
   "source": [
    "y_test=np.ravel(y_test)"
   ]
  },
  {
   "cell_type": "code",
   "execution_count": 54,
   "metadata": {},
   "outputs": [
    {
     "data": {
      "text/plain": [
       "0.9492389673647804"
      ]
     },
     "execution_count": 54,
     "metadata": {},
     "output_type": "execute_result"
    }
   ],
   "source": [
    "r2=r2_score(y_test,y_pred) #testing score/ r^2\n",
    "r2"
   ]
  },
  {
   "cell_type": "code",
   "execution_count": 55,
   "metadata": {},
   "outputs": [
    {
     "data": {
      "text/plain": [
       "0.010646880552369703"
      ]
     },
     "execution_count": 55,
     "metadata": {},
     "output_type": "execute_result"
    }
   ],
   "source": [
    "mae=mean_absolute_error(y_test,y_pred) #mae\n",
    "mae"
   ]
  },
  {
   "cell_type": "code",
   "execution_count": 56,
   "metadata": {},
   "outputs": [
    {
     "data": {
      "text/plain": [
       "np.float64(0.015085040026388077)"
      ]
     },
     "execution_count": 56,
     "metadata": {},
     "output_type": "execute_result"
    }
   ],
   "source": [
    "rmse=np.sqrt(mean_squared_error(y_test,y_pred)) #rmse\n",
    "rmse"
   ]
  },
  {
   "cell_type": "code",
   "execution_count": 57,
   "metadata": {},
   "outputs": [
    {
     "data": {
      "text/plain": [
       "np.float64(14.734646159577968)"
      ]
     },
     "execution_count": 57,
     "metadata": {},
     "output_type": "execute_result"
    }
   ],
   "source": [
    "mape=mean_absolute_percentage_error(y_test,y_pred) #mape\n",
    "mape"
   ]
  },
  {
   "cell_type": "code",
   "execution_count": 58,
   "metadata": {},
   "outputs": [
    {
     "data": {
      "text/html": [
       "<div>\n",
       "<style scoped>\n",
       "    .dataframe tbody tr th:only-of-type {\n",
       "        vertical-align: middle;\n",
       "    }\n",
       "\n",
       "    .dataframe tbody tr th {\n",
       "        vertical-align: top;\n",
       "    }\n",
       "\n",
       "    .dataframe thead th {\n",
       "        text-align: right;\n",
       "    }\n",
       "</style>\n",
       "<table border=\"1\" class=\"dataframe\">\n",
       "  <thead>\n",
       "    <tr style=\"text-align: right;\">\n",
       "      <th></th>\n",
       "      <th>0</th>\n",
       "      <th>1</th>\n",
       "      <th>2</th>\n",
       "      <th>3</th>\n",
       "    </tr>\n",
       "  </thead>\n",
       "  <tbody>\n",
       "    <tr>\n",
       "      <th>0</th>\n",
       "      <td>MAE</td>\n",
       "      <td>RMSE</td>\n",
       "      <td>MAPE</td>\n",
       "      <td>R^2</td>\n",
       "    </tr>\n",
       "    <tr>\n",
       "      <th>1</th>\n",
       "      <td>0.010647</td>\n",
       "      <td>0.015085</td>\n",
       "      <td>14.734646</td>\n",
       "      <td>0.949239</td>\n",
       "    </tr>\n",
       "  </tbody>\n",
       "</table>\n",
       "</div>"
      ],
      "text/plain": [
       "          0         1          2         3\n",
       "0       MAE      RMSE       MAPE       R^2\n",
       "1  0.010647  0.015085  14.734646  0.949239"
      ]
     },
     "execution_count": 58,
     "metadata": {},
     "output_type": "execute_result"
    }
   ],
   "source": [
    "pd.DataFrame(zip(['MAE','RMSE','MAPE','R^2'],[mae,rmse,mape,r2])).transpose()"
   ]
  },
  {
   "cell_type": "code",
   "execution_count": 59,
   "metadata": {},
   "outputs": [
    {
     "data": {
      "text/html": [
       "<div>\n",
       "<style scoped>\n",
       "    .dataframe tbody tr th:only-of-type {\n",
       "        vertical-align: middle;\n",
       "    }\n",
       "\n",
       "    .dataframe tbody tr th {\n",
       "        vertical-align: top;\n",
       "    }\n",
       "\n",
       "    .dataframe thead th {\n",
       "        text-align: right;\n",
       "    }\n",
       "</style>\n",
       "<table border=\"1\" class=\"dataframe\">\n",
       "  <thead>\n",
       "    <tr style=\"text-align: right;\">\n",
       "      <th></th>\n",
       "      <th>0</th>\n",
       "      <th>1</th>\n",
       "    </tr>\n",
       "  </thead>\n",
       "  <tbody>\n",
       "    <tr>\n",
       "      <th>0</th>\n",
       "      <td>0.0334</td>\n",
       "      <td>0.031050</td>\n",
       "    </tr>\n",
       "    <tr>\n",
       "      <th>1</th>\n",
       "      <td>0.0526</td>\n",
       "      <td>0.052721</td>\n",
       "    </tr>\n",
       "    <tr>\n",
       "      <th>2</th>\n",
       "      <td>0.0626</td>\n",
       "      <td>0.055273</td>\n",
       "    </tr>\n",
       "    <tr>\n",
       "      <th>3</th>\n",
       "      <td>0.0338</td>\n",
       "      <td>0.040780</td>\n",
       "    </tr>\n",
       "    <tr>\n",
       "      <th>4</th>\n",
       "      <td>0.0306</td>\n",
       "      <td>0.025807</td>\n",
       "    </tr>\n",
       "    <tr>\n",
       "      <th>...</th>\n",
       "      <td>...</td>\n",
       "      <td>...</td>\n",
       "    </tr>\n",
       "    <tr>\n",
       "      <th>116</th>\n",
       "      <td>0.0909</td>\n",
       "      <td>0.068227</td>\n",
       "    </tr>\n",
       "    <tr>\n",
       "      <th>117</th>\n",
       "      <td>0.0749</td>\n",
       "      <td>0.067481</td>\n",
       "    </tr>\n",
       "    <tr>\n",
       "      <th>118</th>\n",
       "      <td>0.0771</td>\n",
       "      <td>0.065476</td>\n",
       "    </tr>\n",
       "    <tr>\n",
       "      <th>119</th>\n",
       "      <td>0.0827</td>\n",
       "      <td>0.094376</td>\n",
       "    </tr>\n",
       "    <tr>\n",
       "      <th>120</th>\n",
       "      <td>0.2310</td>\n",
       "      <td>0.202852</td>\n",
       "    </tr>\n",
       "  </tbody>\n",
       "</table>\n",
       "<p>121 rows × 2 columns</p>\n",
       "</div>"
      ],
      "text/plain": [
       "          0         1\n",
       "0    0.0334  0.031050\n",
       "1    0.0526  0.052721\n",
       "2    0.0626  0.055273\n",
       "3    0.0338  0.040780\n",
       "4    0.0306  0.025807\n",
       "..      ...       ...\n",
       "116  0.0909  0.068227\n",
       "117  0.0749  0.067481\n",
       "118  0.0771  0.065476\n",
       "119  0.0827  0.094376\n",
       "120  0.2310  0.202852\n",
       "\n",
       "[121 rows x 2 columns]"
      ]
     },
     "execution_count": 59,
     "metadata": {},
     "output_type": "execute_result"
    }
   ],
   "source": [
    "pd.DataFrame([y_test,y_pred]).transpose()"
   ]
  }
 ],
 "metadata": {
  "colab": {
   "collapsed_sections": [],
   "name": "Stock Market Predictor.ipynb",
   "provenance": [],
   "toc_visible": true
  },
  "kernelspec": {
   "display_name": "venv",
   "language": "python",
   "name": "python3"
  },
  "language_info": {
   "codemirror_mode": {
    "name": "ipython",
    "version": 3
   },
   "file_extension": ".py",
   "mimetype": "text/x-python",
   "name": "python",
   "nbconvert_exporter": "python",
   "pygments_lexer": "ipython3",
   "version": "3.12.8"
  }
 },
 "nbformat": 4,
 "nbformat_minor": 1
}
